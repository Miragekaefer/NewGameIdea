{
  "nbformat": 4,
  "nbformat_minor": 0,
  "metadata": {
    "colab": {
      "provenance": [],
      "authorship_tag": "ABX9TyMUSfo5Dk6wJx0n10Hzp8dR",
      "include_colab_link": true
    },
    "kernelspec": {
      "name": "python3",
      "display_name": "Python 3"
    },
    "language_info": {
      "name": "python"
    }
  },
  "cells": [
    {
      "cell_type": "markdown",
      "metadata": {
        "id": "view-in-github",
        "colab_type": "text"
      },
      "source": [
        "<a href=\"https://colab.research.google.com/github/Miragekaefer/NewGameIdea/blob/main/Capstone_Project_TOD2.ipynb\" target=\"_parent\"><img src=\"https://colab.research.google.com/assets/colab-badge.svg\" alt=\"Open In Colab\"/></a>"
      ]
    },
    {
      "cell_type": "markdown",
      "source": [
        "# **Capstone Project Geospace Maschine Learnig Model**"
      ],
      "metadata": {
        "id": "DKo2gZRiyEk6"
      }
    },
    {
      "cell_type": "markdown",
      "source": [
        "**Content:\n",
        "Building a geospace Model to recognize different Usages of Land**"
      ],
      "metadata": {
        "id": "fbJaPrqAyIK8"
      }
    },
    {
      "cell_type": "markdown",
      "source": [
        "(description of our project / Reasons for choosing this project topic (City Planning through land usage recocnition)"
      ],
      "metadata": {
        "id": "71xiwe2Vy0p9"
      }
    },
    {
      "cell_type": "markdown",
      "source": [
        "The initial phase in constructing a spatial-based model involves the collection of essential image data. To achieve this, we opted to use OpenStreetMaps, where images are pre-defined based on building types, road types, and more. This eliminates the need for manual scripting of every entity within each image, allowing us to concentrate on tasking of masking images for the learning process.\n",
        "\n",
        "For obtaining these images locally, we utilized a Google download function, necessitating the use of the Google Cloud service and a dedicated API key."
      ],
      "metadata": {
        "id": "rxQGULvczzyp"
      }
    },
    {
      "cell_type": "code",
      "source": [
        "# function to donwload images from the googlestaticmap api\n",
        "def download_images(coordinates, zoom=16):\n",
        "    # define the request parameters\n",
        "    url = \"https://maps.googleapis.com/maps/api/staticmap?\"\n",
        "    api_key = \"\"\n",
        "    size = \"640x640\"\n",
        "    scale = \"1\"\n",
        "    maptype = \"satellite\"\n",
        "\n",
        "    # pose get request\n",
        "    response = requests.get(url + \"center=\" + str(coordinates[0]) + \",\" + str(coordinates[1]) + \"&zoom=\" + str(zoom) + \"&size=\" + size + \"&maptype=\" + maptype + \"&scale=\" + scale + \"&sensor=false\" + \"&key=\" + api_key, stream=True,)\n",
        "    #stream repsonse into file and save it\n",
        "    with open(os.getcwd() + os.sep + \"Data\" + os.sep + \"Images\" + os.sep + str(coordinates[0]) + \"_\" + str(coordinates[1]) + \".png\", \"wb\",) as out_file:\n",
        "        shutil.copyfileobj(response.raw, out_file)\n",
        "    #delete the repsonse arifact\n",
        "    del response"
      ],
      "metadata": {
        "id": "uLPMr46myYEu"
      },
      "execution_count": null,
      "outputs": []
    },
    {
      "cell_type": "markdown",
      "source": [
        "Prior to utilizing the image downloader, we decided to predefine specific areas and coordinates. This precautionary step ensures that we exclude images from regions that are of no importance for the training model, such as images from oceans or seas."
      ],
      "metadata": {
        "id": "nwgj2rG61Ryn"
      }
    },
    {
      "cell_type": "markdown",
      "source": [
        "Our approach involved taking a package that contains a list of all cities available in OpenStreetMaps, each with a population of 15,000 or more. This strategy was implemented to avoid irrelevant images and place a greater emphasis on the initial concept of city analysis."
      ],
      "metadata": {
        "id": "P443WEWj2SvH"
      }
    },
    {
      "cell_type": "code",
      "source": [
        "# load dataset of all cities in the world with >15000 inhabitants\n",
        "package = Package(\"https://datahub.io/core/world-cities/datapackage.json\")\n",
        "\n",
        "cities_list = package.get_resource(\"world-cities_csv\").read()"
      ],
      "metadata": {
        "id": "Xzhw_gdy2jlM"
      },
      "execution_count": null,
      "outputs": []
    },
    {
      "cell_type": "code",
      "source": [
        "# fetch random city contained in the dataset\n",
        "def get_random_city():\n",
        "\n",
        "    city = random.choice(cities_list)\n",
        "\n",
        "    return city"
      ],
      "metadata": {
        "id": "4x_wrq252l87"
      },
      "execution_count": null,
      "outputs": []
    },
    {
      "cell_type": "markdown",
      "source": [
        "The coordinates are required in establishing the length and width of each image, ensuring equality in size across all images. The following function is designed to define these coordinates based on the nodes of the OpenStreetMap image."
      ],
      "metadata": {
        "id": "4ZfLIlJN22Gh"
      }
    },
    {
      "cell_type": "code",
      "source": [
        "def get_coordinates_from_id(osmid):\n",
        "\n",
        "    # connect to overpass api endpoind\n",
        "    api = overpy.Overpass()\n",
        "\n",
        "    # query the api and save the response\n",
        "    result = api.query(f\"node({osmid});out;\")\n",
        "\n",
        "    for node in result.nodes:\n",
        "        # extract coordinates from response\n",
        "        coordinates = (float(node.lat), float(node.lon))\n",
        "\n",
        "    # if coordinates are available return them\n",
        "    try:\n",
        "        return coordinates\n",
        "\n",
        "    #else print error\n",
        "    except:\n",
        "        print(f\"No coordinates for {osmid}\")"
      ],
      "metadata": {
        "id": "yOaQjSjD3nid"
      },
      "execution_count": null,
      "outputs": []
    },
    {
      "cell_type": "markdown",
      "source": [
        "\n",
        "To further suit our images for the training process, we check their compatibility by scaling them to a standardized size commonly used for map image data."
      ],
      "metadata": {
        "id": "eOKdJ2uX4qKD"
      }
    },
    {
      "cell_type": "code",
      "source": [
        "def latLngToPoint(mapWidth, mapHeight, lat, lng):\n",
        "    x = (lng + 180) * (mapWidth / 360)\n",
        "\n",
        "    y = ((1 - math.log(math.tan(lat * math.pi / 180) + 1 / math.cos(lat * math.pi / 180)) / math.pi) / 2) * mapHeight\n",
        "\n",
        "    return (x, y)\n",
        "\n",
        "\n",
        "\n",
        "def pointToLatLng(mapWidth, mapHeight, x, y):\n",
        "    lng = x / mapWidth * 360 - 180\n",
        "    n = math.pi - 2 * math.pi * y / mapHeight\n",
        "    lat = 180 / math.pi * math.atan(0.5 * (math.exp(n) - math.exp(-n)))\n",
        "\n",
        "\n",
        "    return (lat, lng)\n",
        "\n",
        "\n",
        "\n",
        "def getImageBounds(lat, lng, zoom):\n",
        "    picHeight = 640\n",
        "    picWidth = 640\n",
        "\n",
        "\n",
        "    mapHeight = 256\n",
        "    mapWidth = 256\n",
        "\n",
        "\n",
        "    xScale = math.pow(2, zoom) / (picWidth / mapWidth)\n",
        "    yScale = math.pow(2, zoom) / (picHeight / mapWidth)\n",
        "\n",
        "\n",
        "    centreX, centreY = latLngToPoint(mapWidth, mapHeight, lat, lng)\n",
        "\n",
        "\n",
        "    southWestX = centreX - (mapWidth / 2) / xScale\n",
        "    southWestY = centreY + (mapHeight / 2) / yScale\n",
        "    SWlat, SWlng = pointToLatLng(mapWidth, mapHeight, southWestX, southWestY)\n",
        "\n",
        "\n",
        "    northEastX = centreX + (mapWidth / 2) / xScale\n",
        "    northEastY = centreY - (mapHeight / 2) / yScale\n",
        "    NElat, NElng = pointToLatLng(mapWidth, mapHeight, northEastX, northEastY)\n",
        "\n",
        "\n",
        "    return [SWlat, SWlng, NElat, NElng]"
      ],
      "metadata": {
        "id": "u4GgC11B4_cO"
      },
      "execution_count": null,
      "outputs": []
    },
    {
      "cell_type": "markdown",
      "source": [
        "With all nessessary functions established, the next step involves defining a list that includes all relevant land-use types. Since each node of the image data has an assigned type, we can employ a pre-defined set for land usages to ease this process."
      ],
      "metadata": {
        "id": "QgQ9kf5X6HOO"
      }
    },
    {
      "cell_type": "code",
      "source": [
        "#list with all landuses\n",
        "dictionary_landuse = [\n",
        "    \"commercial\",\n",
        "    \"construction\",\n",
        "    \"education\",\n",
        "    \"fairground\",\n",
        "    \"industrial\",\n",
        "    \"residential\",\n",
        "    \"retail\",\n",
        "    \"institutional\",\n",
        "    \"aquaculture\",\n",
        "    \"allotments\",\n",
        "    \"farmland\",\n",
        "    \"farmyard\",\n",
        "    \"paddy\",\n",
        "    \"animal_keeping\",\n",
        "    \"flowerbed\",\n",
        "    \"forest\",\n",
        "    \"greenhouse_horticulture\",\n",
        "    \"meadow\",\n",
        "    \"orchard\",\n",
        "    \"plant_nursery\",\n",
        "    \"vineyard\",\n",
        "    \"basin\",\n",
        "    \"salt_pond\",\n",
        "    \"brownfield\",\n",
        "    \"cemetery\",\n",
        "    \"depot\",\n",
        "    \"garages\",\n",
        "    \"grass\",\n",
        "    \"greenfield\",\n",
        "    \"landfill\",\n",
        "    \"military\",\n",
        "    \"port\",\n",
        "    \"quarry\",\n",
        "    \"railway\",\n",
        "    \"recreation_ground\",\n",
        "    \"religious\",\n",
        "    \"village_green\",\n",
        "    \"winter_sports\",\n",
        "]"
      ],
      "metadata": {
        "id": "xKecKSZ26fRL"
      },
      "execution_count": null,
      "outputs": []
    },
    {
      "cell_type": "markdown",
      "source": [
        "Our decision was to train the model on 5000 images."
      ],
      "metadata": {
        "id": "-CD5kuTO6gNp"
      }
    },
    {
      "cell_type": "code",
      "source": [
        "# function to generate a set of images for n cities\n",
        "def get_random_samples(n=1):\n",
        "    # loop to do multiple cities\n",
        "\n",
        "    for x in range(n):\n",
        "\n",
        "        # get a random city\n",
        "        city = get_random_city()\n",
        "\n",
        "        # get the coordinates for one of all the different landuses\n",
        "        coordinates = get_coordinates_for_each_landuse(city)\n",
        "\n",
        "        try:\n",
        "\n",
        "            # loop over each coordinate\n",
        "            for coordinate in coordinates:\n",
        "\n",
        "                try:\n",
        "                    # check if data is actually present in the given area\n",
        "                    south, east, north, west = getImageBounds(\n",
        "                        float(coordinate[0]), float(coordinate[1]), 16\n",
        "                    )\n",
        "                    landuse = ox.features_from_bbox(\n",
        "                        north, south, east, west, tags={\"landuse\": True}\n",
        "                    )\n",
        "                    # download the image of the given coordinate\n",
        "                    download_images(coordinate)\n",
        "\n",
        "                except:\n",
        "                    print(\"No landuse data was found\")\n",
        "\n",
        "        except:\n",
        "            print(\"Coordinates were returned empty\")"
      ],
      "metadata": {
        "id": "VvBBwuQw6qw7"
      },
      "execution_count": null,
      "outputs": []
    },
    {
      "cell_type": "code",
      "source": [
        "# initial count of how much data is already in the folder\n",
        "datanames = os.listdir(os.getcwd() + os.sep + \"Data\" + os.sep + \"Images\")\n",
        "\n",
        "# loop as long as less then 5000 examples\n",
        "while len(datanames) < 5000:\n",
        "\n",
        "    get_random_samples()\n",
        "\n",
        "    datanames = os.listdir(os.getcwd() + os.sep + \"Data\" + os.sep + \"Images\")"
      ],
      "metadata": {
        "id": "NEz8B4cm6u1a"
      },
      "execution_count": null,
      "outputs": []
    }
  ]
}